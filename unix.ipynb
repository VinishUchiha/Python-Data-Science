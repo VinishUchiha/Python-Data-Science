{
 "cells": [
  {
   "cell_type": "code",
   "execution_count": 1,
   "metadata": {},
   "outputs": [
    {
     "name": "stdout",
     "output_type": "stream",
     "text": [
      "anaconda3\r\n",
      "Android\r\n",
      "android-studio\r\n",
      "AndroidStudioProjects\r\n",
      "book\r\n",
      "Desktop\r\n",
      "Documents\r\n",
      "Downloads\r\n",
      "examples.desktop\r\n",
      "Intro.ipynb\r\n",
      "Music\r\n",
      "Pictures\r\n",
      "Public\r\n",
      "PycharmProjects\r\n",
      "[Python编程(第4版)].(Programming.Python.4th.Edition).Mark.Lutz.文字版.pdf\r\n",
      "R\r\n",
      "snap\r\n",
      "Templates\r\n",
      "ud839_Miwok-Starter-code\r\n",
      "ud839_Miwok-Starter-code.zip\r\n",
      "ud851-Sunshine-student\r\n",
      "ud851-Sunshine-student.zip\r\n",
      "unix\r\n",
      "unix.ipynb\r\n",
      "Videos\r\n"
     ]
    }
   ],
   "source": [
    "!ls"
   ]
  },
  {
   "cell_type": "code",
   "execution_count": 2,
   "metadata": {
    "collapsed": true
   },
   "outputs": [],
   "source": [
    "!cd R"
   ]
  },
  {
   "cell_type": "code",
   "execution_count": 3,
   "metadata": {},
   "outputs": [
    {
     "name": "stdout",
     "output_type": "stream",
     "text": [
      "anaconda3\r\n",
      "Android\r\n",
      "android-studio\r\n",
      "AndroidStudioProjects\r\n",
      "book\r\n",
      "Desktop\r\n",
      "Documents\r\n",
      "Downloads\r\n",
      "examples.desktop\r\n",
      "Intro.ipynb\r\n",
      "Music\r\n",
      "Pictures\r\n",
      "Public\r\n",
      "PycharmProjects\r\n",
      "[Python编程(第4版)].(Programming.Python.4th.Edition).Mark.Lutz.文字版.pdf\r\n",
      "R\r\n",
      "snap\r\n",
      "Templates\r\n",
      "ud839_Miwok-Starter-code\r\n",
      "ud839_Miwok-Starter-code.zip\r\n",
      "ud851-Sunshine-student\r\n",
      "ud851-Sunshine-student.zip\r\n",
      "unix\r\n",
      "unix.ipynb\r\n",
      "Videos\r\n"
     ]
    }
   ],
   "source": [
    "!ls"
   ]
  },
  {
   "cell_type": "code",
   "execution_count": null,
   "metadata": {
    "collapsed": true
   },
   "outputs": [],
   "source": []
  }
 ],
 "metadata": {
  "kernelspec": {
   "display_name": "Python 3",
   "language": "python",
   "name": "python3"
  },
  "language_info": {
   "codemirror_mode": {
    "name": "ipython",
    "version": 3
   },
   "file_extension": ".py",
   "mimetype": "text/x-python",
   "name": "python",
   "nbconvert_exporter": "python",
   "pygments_lexer": "ipython3",
   "version": "3.6.2"
  }
 },
 "nbformat": 4,
 "nbformat_minor": 2
}
